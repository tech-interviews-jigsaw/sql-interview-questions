{
 "cells": [
  {
   "cell_type": "markdown",
   "id": "96dca0c4-74a7-4dc7-bc0d-882f733f1f38",
   "metadata": {},
   "source": [
    "# Modeling Has Many Through"
   ]
  },
  {
   "cell_type": "markdown",
   "id": "112ff51f-07f5-4d4e-aee5-17b0d0670c3a",
   "metadata": {},
   "source": [
    "### Introduction"
   ]
  },
  {
   "cell_type": "markdown",
   "id": "9f182826-dead-4161-80cc-599a99d8992b",
   "metadata": {},
   "source": [
    "In this lesson, we'll practice modeling has many through relationships.  Once again, we will provide the tables and it is your task to add the foreign keys, and then to make the appropriate queries."
   ]
  },
  {
   "cell_type": "markdown",
   "id": "8cbfb655-8cf7-405d-ae3d-f8fbb3f7e291",
   "metadata": {},
   "source": [
    "The important part is to think about the `join` table, which has more than one foreign key.  Oftentimes the join table involves the transaction that ties multiple entities together."
   ]
  },
  {
   "cell_type": "markdown",
   "id": "925d5541-94dc-4b85-b45d-669132647186",
   "metadata": {},
   "source": [
    "### Doctors, Patients and Appointments "
   ]
  },
  {
   "cell_type": "markdown",
   "id": "3bb48e50-9ab4-4bc3-a87f-d4a1a2a1f452",
   "metadata": {},
   "source": [
    "Let's get started with the doctors, patients and appointments example.  Copy and paste the below into the Khan academy console.  Then add the appropriate foreign keys to the tables, as well as to the insert into statements."
   ]
  },
  {
   "cell_type": "markdown",
   "id": "cf889ade-651b-4b52-8aa9-127356417233",
   "metadata": {},
   "source": [
    "```sql \n",
    "create table doctors (\n",
    "id INTEGER primary key,\n",
    "name TEXT\n",
    ");\n",
    "\n",
    "create table patients (\n",
    "id INTEGER primary key,\n",
    "name TEXT\n",
    ");\n",
    "\n",
    "create table appointments (\n",
    "id INTEGER primary key,\n",
    "date TEXT\n",
    ");\n",
    "\n",
    "insert into doctors (name) VALUES\n",
    "('greg house'), \n",
    "('lisa cuddy');\n",
    "\n",
    "insert into patients (name) VALUES\n",
    "('jerry seinfeld'), \n",
    "('george castanza'), \n",
    "('cosmo kramer');\n",
    "\n",
    "insert into appointments (date) VALUES\n",
    "('12/1/1990'),\n",
    "('10/10/1990'),\n",
    "('4/13/1990'),\n",
    "('12/2/1991'),\n",
    "('5/2/2000');\n",
    "\n",
    "select * from doctors;\n",
    "select * from patients;\n",
    "select * from appointments;\n",
    "```"
   ]
  },
  {
   "cell_type": "markdown",
   "id": "5d2f7bd7-b18e-495f-a3d1-74fef9538010",
   "metadata": {},
   "source": [
    "Follow up by answering the following questions."
   ]
  },
  {
   "cell_type": "markdown",
   "id": "b46d2ef9-1cdc-4e36-94c3-b45afdd6d2d0",
   "metadata": {},
   "source": [
    "* Find all of the days that Kramer had a doctors appointment.\n",
    "* Find all of the doctors of Kramer\n",
    "* Find all of the days that dr house had an appointment."
   ]
  },
  {
   "cell_type": "markdown",
   "id": "51955d45-3c8c-430b-8c4e-dbb26119d4bc",
   "metadata": {},
   "source": [
    "### Modeling Ecommerce"
   ]
  },
  {
   "cell_type": "markdown",
   "id": "6d2c0541-4cf4-4eed-84a8-53908cc68cd2",
   "metadata": {},
   "source": [
    "Next let's think through the an ecommerce store.  Add the respective foreign keys so that we can discover which customers purchased which products."
   ]
  },
  {
   "cell_type": "markdown",
   "id": "4dc7e9c3-6605-4923-83b2-8ac509faaf20",
   "metadata": {},
   "source": [
    "```sql\n",
    "create table customers (\n",
    "id INTEGER primary key,\n",
    "name TEXT\n",
    ");\n",
    "\n",
    "create table products (\n",
    "id INTEGER primary key,\n",
    "name TEXT\n",
    ");\n",
    "\n",
    "create table orders (\n",
    "id INTEGER primary key,\n",
    "date TEXT\n",
    ");\n",
    "\n",
    "insert into products (name) VALUES\n",
    "('samsung tv 7250'), \n",
    "('roomba 25'), \n",
    "('bic pen 49'),\n",
    "('huffy bicycle');\n",
    "\n",
    "insert into orders (date) VALUES\n",
    "('12/1/1990'),\n",
    "('10/10/1990'),\n",
    "('4/13/1990'),\n",
    "('12/2/1991'),\n",
    "('5/2/2000');\n",
    "\n",
    "insert into customers (name) VALUES\n",
    "('jerry seinfeld'), \n",
    "('george castanza'), \n",
    "('elaine benis'), \n",
    "('cosmo kramer');\n",
    "\n",
    "select * from customers;\n",
    "select * from products;\n",
    "select * from orders;\n",
    "```"
   ]
  },
  {
   "cell_type": "markdown",
   "id": "b7af9025-ea21-460a-b02b-062b5c0c795e",
   "metadata": {},
   "source": [
    "* Begin by finding all of the customers that ordered the `roomba 25`\n",
    "* Then name of the product that was ordered the most\n",
    "* Find the names of the products ordered by `elaine benis`"
   ]
  },
  {
   "cell_type": "markdown",
   "id": "23e97559-2a0c-4db7-bf95-8e5ed58a2808",
   "metadata": {},
   "source": [
    "### Modeling Vacation Tours"
   ]
  },
  {
   "cell_type": "markdown",
   "id": "be1a1902-f117-49f0-9477-48244b9a736c",
   "metadata": {},
   "source": [
    "In this example, we'll perform data modeling for a tour company.  Let's get started."
   ]
  },
  {
   "cell_type": "markdown",
   "id": "5461cc3f-7bda-4c14-b0e2-2510c2998f0b",
   "metadata": {},
   "source": [
    "Begin by again adding the foreign keys on the tables, and then inserting in the foreign keys in the related data."
   ]
  },
  {
   "cell_type": "markdown",
   "id": "c80721d1-484e-4121-8cbe-3cb67de864b8",
   "metadata": {},
   "source": [
    "```sql\n",
    "create table tours (\n",
    "id INTEGER PRIMARY KEY AUTOINCREMENT,\n",
    "name TEXT\n",
    ");\n",
    "\n",
    "create table cities (\n",
    "id INTEGER PRIMARY KEY AUTOINCREMENT,\n",
    "name TEXT\n",
    ");\n",
    "\n",
    "create table categories (\n",
    "id INTEGER PRIMARY KEY AUTOINCREMENT,\n",
    "name TEXT\n",
    ");\n",
    "\n",
    "create table tour_stops (\n",
    "id INTEGER PRIMARY KEY AUTOINCREMENT,\n",
    "stop_number INTEGER\n",
    ");\n",
    "\n",
    "create table tour_categories (\n",
    "id INTEGER PRIMARY KEY AUTOINCREMENT\n",
    ");\n",
    "\n",
    "INSERT INTO tours (name) VALUES\n",
    "('Food Tour of Mexico'),\n",
    "('History in Mexico'),\n",
    "('Beaches of Mexico');\n",
    "\n",
    "INSERT INTO cities (name) VALUES\n",
    "('Mexico City'),\n",
    "('Cancun'),\n",
    "('Oaxaca'),\n",
    "('Toluca'),\n",
    "('Acapulco');\n",
    "\n",
    "INSERT INTO categories (name) VALUES \n",
    "('historical'),\n",
    "('urban'),\n",
    "('nature'),\n",
    "('relaxing'),\n",
    "('educational'),\n",
    "('luxury'),\n",
    "('roughin it');\n",
    "```"
   ]
  },
  {
   "cell_type": "markdown",
   "id": "4618fe04-8bd1-46bb-9fb6-135c9c258002",
   "metadata": {},
   "source": [
    "Then answer the following questions.\n",
    "\n",
    "* Find the names of all of the tours that are `'relaxing'`.\n",
    "* Return all of the city names on the `'Food Tour of Mexico'`, in the order that they are stops on the tour.\n",
    "* Find all of the categories of the `History of Mexico` tour.\n",
    "* Find the names of all of the cities in a tour that is `'relaxing'`."
   ]
  }
 ],
 "metadata": {
  "kernelspec": {
   "display_name": "Python 3 (ipykernel)",
   "language": "python",
   "name": "python3"
  },
  "language_info": {
   "codemirror_mode": {
    "name": "ipython",
    "version": 3
   },
   "file_extension": ".py",
   "mimetype": "text/x-python",
   "name": "python",
   "nbconvert_exporter": "python",
   "pygments_lexer": "ipython3",
   "version": "3.11.1"
  }
 },
 "nbformat": 4,
 "nbformat_minor": 5
}
