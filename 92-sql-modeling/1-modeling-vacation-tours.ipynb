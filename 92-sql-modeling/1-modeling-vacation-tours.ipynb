{
 "cells": [
  {
   "cell_type": "markdown",
   "id": "2e40093a-d590-4085-9f79-c8719bac6727",
   "metadata": {},
   "source": [
    "# Modeling Vacation Tours"
   ]
  },
  {
   "cell_type": "markdown",
   "id": "0e77920c-15dd-4042-9070-f6a7f47cdfe2",
   "metadata": {},
   "source": [
    "\n",
    "```sql\n",
    "create table tours (\n",
    "id INTEGER PRIMARY KEY AUTOINCREMENT,\n",
    "name TEXT\n",
    ");\n",
    "\n",
    "create table cities (\n",
    "id INTEGER PRIMARY KEY AUTOINCREMENT,\n",
    "name TEXT\n",
    ");\n",
    "\n",
    "create table categories (\n",
    "id INTEGER PRIMARY KEY AUTOINCREMENT,\n",
    "name TEXT\n",
    ");\n",
    "\n",
    "create table tour_stops (\n",
    "id INTEGER PRIMARY KEY AUTOINCREMENT,\n",
    "tour_id INTEGER,\n",
    "city_id INTEGER,\n",
    "stop_number INTEGER\n",
    ");\n",
    "\n",
    "INSERT INTO tour_stops (tour_id, city_id, stop_number) VALUES\n",
    "(1, 1, 1),\n",
    "(1, 2, 3),\n",
    "(1, 3, 2),\n",
    "(2, 1, 1),\n",
    "(2, 2, 2);\n",
    "\n",
    "create table tour_categories (\n",
    "id INTEGER PRIMARY KEY AUTOINCREMENT,\n",
    "tour_id INTEGER,\n",
    "category_id INTEGER\n",
    ");\n",
    "\n",
    "INSERT INTO tour_categories (tour_id, category_id) VALUES\n",
    "(1, 1),\n",
    "(2, 1),\n",
    "(2, 2),\n",
    "(3, 4),\n",
    "(2, 4),\n",
    "(1, 2);\n",
    "\n",
    "INSERT INTO tours (name) VALUES\n",
    "('Food Tour of Mexico'),\n",
    "('History of Mexico'),\n",
    "('Beaches of Mexico');\n",
    "\n",
    "INSERT INTO cities (name) VALUES\n",
    "('Mexico City'),\n",
    "('Cancun'),\n",
    "('Oaxaca'),\n",
    "('Toluca'),\n",
    "('Acapulco');\n",
    "\n",
    "INSERT INTO categories (name) VALUES \n",
    "('historical'),\n",
    "('urban'),\n",
    "('nature'),\n",
    "('relaxing'),\n",
    "('educational'),\n",
    "('luxury'),\n",
    "('roughin it');\n",
    "```"
   ]
  },
  {
   "cell_type": "markdown",
   "id": "f9dc630c-a477-4c88-844b-ab569659273a",
   "metadata": {},
   "source": [
    "Then answer the following questions.\n",
    "\n",
    "* Find the names of all of the tours that are 'relaxing'.\n"
   ]
  },
  {
   "cell_type": "markdown",
   "id": "c1e021c5-c115-483d-9fa5-fddfa3f8c46e",
   "metadata": {},
   "source": [
    "<img src=\"./beaches-mexico.png\" width=\"80%\">"
   ]
  },
  {
   "cell_type": "markdown",
   "id": "7b3347de-3efe-4975-a6b1-816d7279097d",
   "metadata": {},
   "source": [
    "* Return all of the city names on the 'Food Tour of Mexico', in the order that they are stops on the tour."
   ]
  },
  {
   "cell_type": "markdown",
   "id": "fac70b49-b155-4d76-9a0e-a99ffd48e5b7",
   "metadata": {},
   "source": [
    "<img src=\"./city-names.png\" width=\"80%\">"
   ]
  },
  {
   "cell_type": "markdown",
   "id": "b51bb55a-0c33-4796-be1b-d7bc38caf3f2",
   "metadata": {},
   "source": [
    "* Find all of the categories of the History of Mexico tour."
   ]
  },
  {
   "cell_type": "markdown",
   "id": "8776c0d3-1302-49dd-9ac0-80d141a25ca0",
   "metadata": {},
   "source": [
    "<img src=\"./history-mexico.png\" width=\"80%\">"
   ]
  },
  {
   "cell_type": "markdown",
   "id": "3186ab13-dbb6-4af0-b03b-393f63cc94de",
   "metadata": {},
   "source": [
    "* Find the names of all of the cities in a tour that is 'relaxing'."
   ]
  },
  {
   "cell_type": "markdown",
   "id": "42740c58-2add-40a0-8f5d-78ac10b127f2",
   "metadata": {},
   "source": [
    "<img src=\"./cities-relaxing.png\" width=\"60%\">"
   ]
  }
 ],
 "metadata": {
  "kernelspec": {
   "display_name": "Python 3 (ipykernel)",
   "language": "python",
   "name": "python3"
  },
  "language_info": {
   "codemirror_mode": {
    "name": "ipython",
    "version": 3
   },
   "file_extension": ".py",
   "mimetype": "text/x-python",
   "name": "python",
   "nbconvert_exporter": "python",
   "pygments_lexer": "ipython3",
   "version": "3.11.1"
  }
 },
 "nbformat": 4,
 "nbformat_minor": 5
}
